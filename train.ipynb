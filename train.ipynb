{
 "cells": [
  {
   "cell_type": "code",
   "execution_count": 13,
   "metadata": {},
   "outputs": [
    {
     "name": "stdout",
     "output_type": "stream",
     "text": [
      "Namespace(batch_size=2, beta1=0.0, beta2=0.99, checkpoint_dir='expr/checkpoints', ds_iter=100000, eval_dir='expr/eval', eval_every=50000, f_lr=1e-06, hidden_dim=512, img_size=256, inp_dir='assets/representative/custom/female', lambda_cyc=1.0, lambda_ds=2.0, lambda_reg=1.0, lambda_sty=1.0, latent_dim=16, lm_path='expr/checkpoints/celeba_lm_mean.npz', lr=0.0001, mode='train', num_domains=3, num_outs_per_domain=10, num_workers=4, out_dir='assets/representative/celeba_hq/src/female', print_every=10, randcrop_prob=0.5, ref_dir='assets/representative/celeba_hq/ref', result_dir='expr/results', resume_iter=0, sample_dir='expr/samples', sample_every=100, save_every=500, seed=777, src_dir='assets/representative/celeba_hq/src', style_dim=64, total_iters=100000, train_img_dir='data/afhq/train', val_batch_size=32, val_img_dir='data/afhq/val', w_hpf=0.0, weight_decay=0.0001, wing_path='expr/checkpoints/wing.ckpt')\n",
      "Number of parameters of generator: 33736899\n",
      "Number of parameters of mapping_network: 3259072\n",
      "Number of parameters of style_encoder: 20949760\n",
      "Number of parameters of discriminator: 20852803\n",
      "Initializing generator...\n",
      "Initializing mapping_network...\n",
      "Initializing style_encoder...\n",
      "Initializing discriminator...\n",
      "Preparing DataLoader to fetch source images during the training phase...\n",
      "Preparing DataLoader to fetch reference images during the training phase...\n",
      "Preparing DataLoader for the generation phase...\n",
      "Start training...\n",
      "[W pthreadpool-cpp.cc:90] Warning: Leaking Caffe2 thread-pool after fork. (function pthreadpool)\n",
      "[W pthreadpool-cpp.cc:90] Warning: Leaking Caffe2 thread-pool after fork. (function pthreadpool)\n",
      "[W pthreadpool-cpp.cc:90] Warning: Leaking Caffe2 thread-pool after fork. (function pthreadpool)\n",
      "[W pthreadpool-cpp.cc:90] Warning: Leaking Caffe2 thread-pool after fork. (function pthreadpool)\n",
      "[W pthreadpool-cpp.cc:90] Warning: Leaking Caffe2 thread-pool after fork. (function pthreadpool)\n",
      "[W pthreadpool-cpp.cc:90] Warning: Leaking Caffe2 thread-pool after fork. (function pthreadpool)\n",
      "[W pthreadpool-cpp.cc:90] Warning: Leaking Caffe2 thread-pool after fork. (function pthreadpool)\n",
      "[W pthreadpool-cpp.cc:90] Warning: Leaking Caffe2 thread-pool after fork. (function pthreadpool)\n",
      "Elapsed time [0:00:14], Iteration [10/100000], D/latent_real: [2.6115] D/latent_fake: [0.0000] D/latent_reg: [0.0011] D/ref_real: [0.9768] D/ref_fake: [0.0000] D/ref_reg: [0.0009] G/latent_adv: [22.5016] G/latent_sty: [7.3582] G/latent_ds: [3.9986] G/latent_cyc: [6.3332] G/ref_adv: [0.0035] G/ref_sty: [1.8665] G/ref_ds: [1.4095] G/ref_cyc: [4.1222] G/lambda_ds: [1.9998]\n",
      "Elapsed time [0:00:26], Iteration [20/100000], D/latent_real: [3.2720] D/latent_fake: [56.8457] D/latent_reg: [0.0010] D/ref_real: [7.3102] D/ref_fake: [0.0000] D/ref_reg: [0.0042] G/latent_adv: [435.7190] G/latent_sty: [12.5877] G/latent_ds: [4.2766] G/latent_cyc: [17.2675] G/ref_adv: [54.2699] G/ref_sty: [2.3473] G/ref_ds: [1.1818] G/ref_cyc: [4.8150] G/lambda_ds: [1.9996]\n",
      "Elapsed time [0:00:38], Iteration [30/100000], D/latent_real: [0.7682] D/latent_fake: [0.0001] D/latent_reg: [0.0005] D/ref_real: [0.4555] D/ref_fake: [0.0001] D/ref_reg: [0.0005] G/latent_adv: [40.7712] G/latent_sty: [3.4547] G/latent_ds: [2.5909] G/latent_cyc: [5.8021] G/ref_adv: [27.0745] G/ref_sty: [1.1700] G/ref_ds: [0.9225] G/ref_cyc: [2.5869] G/lambda_ds: [1.9994]\n",
      "Elapsed time [0:00:49], Iteration [40/100000], D/latent_real: [1.0386] D/latent_fake: [0.0000] D/latent_reg: [0.0003] D/ref_real: [0.8394] D/ref_fake: [1.4022] D/ref_reg: [0.0003] G/latent_adv: [73.3384] G/latent_sty: [1.9827] G/latent_ds: [2.0527] G/latent_cyc: [4.8668] G/ref_adv: [46.8182] G/ref_sty: [1.9921] G/ref_ds: [0.6044] G/ref_cyc: [2.5290] G/lambda_ds: [1.9992]\n",
      "Elapsed time [0:01:01], Iteration [50/100000], D/latent_real: [1.4789] D/latent_fake: [0.0000] D/latent_reg: [0.0004] D/ref_real: [0.9588] D/ref_fake: [0.0000] D/ref_reg: [0.0003] G/latent_adv: [60.6849] G/latent_sty: [1.8552] G/latent_ds: [2.4189] G/latent_cyc: [2.2777] G/ref_adv: [20.4172] G/ref_sty: [0.8349] G/ref_ds: [0.4135] G/ref_cyc: [1.8995] G/lambda_ds: [1.9990]\n",
      "Elapsed time [0:01:12], Iteration [60/100000], D/latent_real: [5.7692] D/latent_fake: [0.0000] D/latent_reg: [0.0145] D/ref_real: [1.0697] D/ref_fake: [0.0029] D/ref_reg: [0.0005] G/latent_adv: [13.1416] G/latent_sty: [2.5985] G/latent_ds: [2.2113] G/latent_cyc: [6.0158] G/ref_adv: [73.4733] G/ref_sty: [3.6947] G/ref_ds: [1.2711] G/ref_cyc: [2.6452] G/lambda_ds: [1.9988]\n",
      "Elapsed time [0:01:24], Iteration [70/100000], D/latent_real: [0.2850] D/latent_fake: [0.0059] D/latent_reg: [0.0007] D/ref_real: [0.2286] D/ref_fake: [2.4898] D/ref_reg: [0.0007] G/latent_adv: [60.1856] G/latent_sty: [1.8007] G/latent_ds: [2.7739] G/latent_cyc: [2.0939] G/ref_adv: [31.6004] G/ref_sty: [0.9002] G/ref_ds: [0.4843] G/ref_cyc: [1.3368] G/lambda_ds: [1.9986]\n",
      "Elapsed time [0:01:35], Iteration [80/100000], D/latent_real: [0.7002] D/latent_fake: [0.0891] D/latent_reg: [0.0002] D/ref_real: [0.6092] D/ref_fake: [0.0000] D/ref_reg: [0.0002] G/latent_adv: [8.1261] G/latent_sty: [1.1555] G/latent_ds: [1.8149] G/latent_cyc: [1.2097] G/ref_adv: [9.7792] G/ref_sty: [0.2492] G/ref_ds: [0.2651] G/ref_cyc: [0.6748] G/lambda_ds: [1.9984]\n",
      "Elapsed time [0:01:47], Iteration [90/100000], D/latent_real: [2.7105] D/latent_fake: [0.0003] D/latent_reg: [0.0010] D/ref_real: [0.9378] D/ref_fake: [0.0001] D/ref_reg: [0.0003] G/latent_adv: [48.1065] G/latent_sty: [0.9900] G/latent_ds: [3.2002] G/latent_cyc: [0.8941] G/ref_adv: [9.9602] G/ref_sty: [0.2457] G/ref_ds: [0.1591] G/ref_cyc: [0.8306] G/lambda_ds: [1.9982]\n",
      "Elapsed time [0:01:58], Iteration [100/100000], D/latent_real: [0.8992] D/latent_fake: [0.0000] D/latent_reg: [0.0004] D/ref_real: [0.6030] D/ref_fake: [0.0358] D/ref_reg: [0.0004] G/latent_adv: [39.8370] G/latent_sty: [1.0620] G/latent_ds: [1.6618] G/latent_cyc: [0.7102] G/ref_adv: [2.8853] G/ref_sty: [0.3432] G/ref_ds: [0.2428] G/ref_cyc: [0.8176] G/lambda_ds: [1.9980]\n",
      "Elapsed time [0:02:16], Iteration [110/100000], D/latent_real: [0.6909] D/latent_fake: [0.0243] D/latent_reg: [0.0007] D/ref_real: [0.4619] D/ref_fake: [0.1058] D/ref_reg: [0.0005] G/latent_adv: [6.5375] G/latent_sty: [0.8802] G/latent_ds: [1.3913] G/latent_cyc: [1.2404] G/ref_adv: [0.9261] G/ref_sty: [0.4326] G/ref_ds: [0.2715] G/ref_cyc: [0.7541] G/lambda_ds: [1.9978]\n",
      "Elapsed time [0:02:28], Iteration [120/100000], D/latent_real: [0.7865] D/latent_fake: [0.0001] D/latent_reg: [0.0009] D/ref_real: [0.2381] D/ref_fake: [0.4362] D/ref_reg: [0.0005] G/latent_adv: [5.5876] G/latent_sty: [0.9251] G/latent_ds: [1.4278] G/latent_cyc: [0.9309] G/ref_adv: [0.4389] G/ref_sty: [0.4338] G/ref_ds: [0.1952] G/ref_cyc: [0.7694] G/lambda_ds: [1.9976]\n",
      "Elapsed time [0:02:39], Iteration [130/100000], D/latent_real: [0.5208] D/latent_fake: [0.0000] D/latent_reg: [0.0010] D/ref_real: [0.2987] D/ref_fake: [0.0000] D/ref_reg: [0.0006] G/latent_adv: [33.1964] G/latent_sty: [1.1565] G/latent_ds: [1.5717] G/latent_cyc: [1.3975] G/ref_adv: [11.9405] G/ref_sty: [0.4996] G/ref_ds: [0.2330] G/ref_cyc: [0.7476] G/lambda_ds: [1.9974]\n",
      "Elapsed time [0:02:51], Iteration [140/100000], D/latent_real: [1.8126] D/latent_fake: [0.0000] D/latent_reg: [0.0024] D/ref_real: [0.8283] D/ref_fake: [0.0000] D/ref_reg: [0.0011] G/latent_adv: [75.0010] G/latent_sty: [1.6458] G/latent_ds: [3.9254] G/latent_cyc: [3.6902] G/ref_adv: [4.3892] G/ref_sty: [0.4375] G/ref_ds: [0.2086] G/ref_cyc: [1.6916] G/lambda_ds: [1.9972]\n",
      "Elapsed time [0:03:02], Iteration [150/100000], D/latent_real: [1.1928] D/latent_fake: [0.0000] D/latent_reg: [0.0008] D/ref_real: [0.4243] D/ref_fake: [4.5254] D/ref_reg: [0.0004] G/latent_adv: [91.6108] G/latent_sty: [2.2635] G/latent_ds: [1.7210] G/latent_cyc: [2.9159] G/ref_adv: [59.4467] G/ref_sty: [0.5875] G/ref_ds: [0.5084] G/ref_cyc: [1.6232] G/lambda_ds: [1.9970]\n",
      "Elapsed time [0:03:14], Iteration [160/100000], D/latent_real: [5.8603] D/latent_fake: [0.0000] D/latent_reg: [0.0138] D/ref_real: [2.2822] D/ref_fake: [0.0000] D/ref_reg: [0.0044] G/latent_adv: [111.9237] G/latent_sty: [1.2661] G/latent_ds: [2.0396] G/latent_cyc: [2.1438] G/ref_adv: [24.8154] G/ref_sty: [0.5319] G/ref_ds: [0.1654] G/ref_cyc: [1.5103] G/lambda_ds: [1.9968]\n",
      "Elapsed time [0:03:25], Iteration [170/100000], D/latent_real: [1.7078] D/latent_fake: [0.0000] D/latent_reg: [0.0026] D/ref_real: [0.8329] D/ref_fake: [0.0395] D/ref_reg: [0.0009] G/latent_adv: [61.6278] G/latent_sty: [0.5846] G/latent_ds: [1.3436] G/latent_cyc: [0.8751] G/ref_adv: [20.0458] G/ref_sty: [0.2768] G/ref_ds: [0.1142] G/ref_cyc: [0.9515] G/lambda_ds: [1.9966]\n",
      "^C\n",
      "Traceback (most recent call last):\n",
      "  File \"main.py\", line 182, in <module>\n",
      "    main(args)\n",
      "  File \"main.py\", line 59, in main\n",
      "    solver.train(loaders)\n",
      "  File \"/home/user/ML/GAN/modulated_stargan/core/solver.py\", line 132, in train\n",
      "    optims.style_encoder.step()\n",
      "  File \"/home/user/ML/VENV45/lib/python3.8/site-packages/torch/optim/optimizer.py\", line 88, in wrapper\n",
      "    return func(*args, **kwargs)\n",
      "  File \"/home/user/ML/VENV45/lib/python3.8/site-packages/torch/autograd/grad_mode.py\", line 28, in decorate_context\n",
      "    return func(*args, **kwargs)\n",
      "  File \"/home/user/ML/VENV45/lib/python3.8/site-packages/torch/optim/adam.py\", line 107, in step\n",
      "    F.adam(params_with_grad,\n",
      "  File \"/home/user/ML/VENV45/lib/python3.8/site-packages/torch/optim/_functional.py\", line 83, in adam\n",
      "    grad = grad.add(param, alpha=weight_decay)\n",
      "KeyboardInterrupt\n"
     ]
    }
   ],
   "source": [
    "!python main.py --mode train --num_domains 3 --w_hpf 0 --lambda_reg 1 --lambda_sty 1 --lambda_ds 2 --lambda_cyc 1 --train_img_dir data/afhq/train --val_img_dir data/afhq/val --batch_size 2 --sample_every 100 --save_every 500"
   ]
  },
  {
   "cell_type": "code",
   "execution_count": null,
   "metadata": {},
   "outputs": [],
   "source": [
    "!python main.py --img_size 512 --resume_iter 100 --val_batch_size 3 --mode train --num_domains 3 --w_hpf 0 --lambda_reg 1 --lambda_sty 1.3 --lambda_ds 2 --lambda_cyc 1.3 --train_img_dir afhq/train --val_img_dir afhq/val --batch_size 2 --sample_every 100 --save_every 500"
   ]
  }
 ],
 "metadata": {
  "kernelspec": {
   "display_name": "Python 3",
   "language": "python",
   "name": "python3"
  },
  "language_info": {
   "codemirror_mode": {
    "name": "ipython",
    "version": 3
   },
   "file_extension": ".py",
   "mimetype": "text/x-python",
   "name": "python",
   "nbconvert_exporter": "python",
   "pygments_lexer": "ipython3",
   "version": "3.8.10"
  }
 },
 "nbformat": 4,
 "nbformat_minor": 4
}
