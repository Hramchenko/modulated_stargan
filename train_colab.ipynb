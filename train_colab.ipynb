{
 "cells": [
  {
   "cell_type": "markdown",
   "metadata": {
    "id": "BmVY5itkPKtW"
   },
   "source": [
    "# Installing dependencies"
   ]
  },
  {
   "cell_type": "code",
   "execution_count": null,
   "metadata": {
    "colab": {
     "base_uri": "https://localhost:8080/"
    },
    "id": "ziOXojIjPQCY",
    "outputId": "0b5272fe-24a4-4192-c34d-7b6813c0711e"
   },
   "outputs": [],
   "source": [
    "from google.colab import drive\n",
    "drive.mount('/content/drive')"
   ]
  },
  {
   "cell_type": "code",
   "execution_count": null,
   "metadata": {
    "colab": {
     "base_uri": "https://localhost:8080/",
     "height": 619
    },
    "id": "AtVHCfIIPKtW",
    "outputId": "c860c974-d85a-4e72-cf49-e4f72cf23782"
   },
   "outputs": [],
   "source": [
    "!pip install munch kornia ffmpeg torch torchvision opencv-python"
   ]
  },
  {
   "cell_type": "markdown",
   "metadata": {
    "id": "6IbMw8VvPKtX"
   },
   "source": [
    "# Unpacking the project code"
   ]
  },
  {
   "cell_type": "markdown",
   "metadata": {
    "id": "8rZUHQbNPKtX"
   },
   "source": [
    "> Upload .zip archive with code to Colab node first"
   ]
  },
  {
   "cell_type": "code",
   "execution_count": null,
   "metadata": {
    "colab": {
     "base_uri": "https://localhost:8080/"
    },
    "id": "sVLYi70fPKtX",
    "outputId": "1e9bfd94-0eec-4b3c-e2d9-e70abdae44dd"
   },
   "outputs": [],
   "source": [
    "!unzip ./modulated_stargan.zip"
   ]
  },
  {
   "cell_type": "code",
   "execution_count": null,
   "metadata": {
    "colab": {
     "base_uri": "https://localhost:8080/"
    },
    "id": "xBlZ_JvZPKtY",
    "outputId": "4b6f393c-2b42-40d8-87bc-af3dfa4e0166"
   },
   "outputs": [],
   "source": [
    "%cd ./modulated_stargan/"
   ]
  },
  {
   "cell_type": "markdown",
   "metadata": {
    "id": "uCBs8ZBBPKtY"
   },
   "source": [
    "# Downloading dataset"
   ]
  },
  {
   "cell_type": "code",
   "execution_count": null,
   "metadata": {
    "colab": {
     "base_uri": "https://localhost:8080/"
    },
    "id": "IreZu755PKtY",
    "outputId": "3832dddb-08c9-4192-cb87-6c96fe4bd793"
   },
   "outputs": [],
   "source": [
    "!wget https://www.dropbox.com/s/t9l9o3vsx2jai3z/afhq.zip?dl=0\n",
    "!mv ./afhq.zip\\?dl\\=0 ./afhq.zip"
   ]
  },
  {
   "cell_type": "code",
   "execution_count": null,
   "metadata": {
    "colab": {
     "base_uri": "https://localhost:8080/"
    },
    "id": "CC-KpYtbPKtY",
    "outputId": "5cb150a4-22ce-46dc-a203-b28a30bcc87f"
   },
   "outputs": [],
   "source": [
    "!unzip ./afhq.zip"
   ]
  },
  {
   "cell_type": "markdown",
   "metadata": {
    "id": "xQMOiUgoPKtZ"
   },
   "source": [
    "# Training model"
   ]
  },
  {
   "cell_type": "code",
   "execution_count": null,
   "metadata": {
    "id": "wuk57nQ8PKtZ"
   },
   "outputs": [],
   "source": [
    "!mkdir /content/drive/MyDrive/modulated_stargan_ckpt/"
   ]
  },
  {
   "cell_type": "markdown",
   "metadata": {},
   "source": [
    "## For new training:"
   ]
  },
  {
   "cell_type": "code",
   "execution_count": null,
   "metadata": {
    "colab": {
     "base_uri": "https://localhost:8080/"
    },
    "id": "KxoZMcexPKtZ",
    "outputId": "4071e3ed-d088-44ce-88da-614bcaa03876"
   },
   "outputs": [],
   "source": [
    "!python main.py --img_size 512 --latent_dim 24 --style_dim 768 --val_batch_size 3 --mode train --num_domains 3 --w_hpf 0 --lambda_reg 1 --lambda_sty 1.3 --lambda_ds 2 --lambda_cyc 1.3 --train_img_dir afhq/train --val_img_dir afhq/val --batch_size 2 --sample_every 100 --save_every 500"
   ]
  },
  {
   "cell_type": "markdown",
   "metadata": {
    "id": "_iMaAyuZQcVX"
   },
   "source": [
    "## Resume from checkpoint"
   ]
  },
  {
   "cell_type": "code",
   "execution_count": null,
   "metadata": {},
   "outputs": [],
   "source": [
    "!python main.py --img_size 512 --resume_iter 100 --latent_dim 24 --style_dim 768 --val_batch_size 3 --mode train --num_domains 3 --w_hpf 0 --lambda_reg 1 --lambda_sty 1.3 --lambda_ds 2 --lambda_cyc 1.3 --train_img_dir afhq/train --val_img_dir afhq/val --batch_size 2 --sample_every 100 --save_every 500"
   ]
  }
 ],
 "metadata": {
  "accelerator": "GPU",
  "colab": {
   "collapsed_sections": [
    "BmVY5itkPKtW",
    "6IbMw8VvPKtX",
    "uCBs8ZBBPKtY"
   ],
   "name": "train_colab.ipynb",
   "provenance": []
  },
  "kernelspec": {
   "display_name": "Python 3",
   "language": "python",
   "name": "python3"
  },
  "language_info": {
   "codemirror_mode": {
    "name": "ipython",
    "version": 3
   },
   "file_extension": ".py",
   "mimetype": "text/x-python",
   "name": "python",
   "nbconvert_exporter": "python",
   "pygments_lexer": "ipython3",
   "version": "3.8.10"
  }
 },
 "nbformat": 4,
 "nbformat_minor": 4
}
